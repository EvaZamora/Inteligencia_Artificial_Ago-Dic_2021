{
  "nbformat": 4,
  "nbformat_minor": 0,
  "metadata": {
    "colab": {
      "name": " IA_Ejercicio3_EvaZamora_1851761.ipynb",
      "provenance": [],
      "collapsed_sections": []
    },
    "kernelspec": {
      "name": "python3",
      "display_name": "Python 3"
    },
    "language_info": {
      "name": "python"
    }
  },
  "cells": [
    {
      "cell_type": "markdown",
      "metadata": {
        "id": "stq72-TGmA62"
      },
      "source": [
        "Actividad 3: Ejercicios Introducción Python Segunda Parte\n",
        "Eva Paola Zamora Gutiérrez 1851761\n",
        "Jueves N4-N6"
      ]
    },
    {
      "cell_type": "code",
      "metadata": {
        "colab": {
          "base_uri": "https://localhost:8080/"
        },
        "id": "ayJzDDEtmNMA",
        "outputId": "e91bdd17-804b-44a2-dd8d-986bdc570f97"
      },
      "source": [
        "#Ejercicio 1\n",
        "#1.1 Piensa en 7 comidas diferente que te gusten. Implementa un programa que pregunte por las 7 comidas, las almacene en una lista y que posteriermente imprima cada una de ellas utilizando uno de los ciclos comentados en clase. \n",
        "#Comidas: Pizza, Spaguetti, Ensalada, Crema de Broccoli, Pozole, Enchiladas, Sopes\n",
        "\n",
        "lista = []\n",
        "\n",
        "print(\"Piensa en 7 de tus comidas preferidas.\\n\")\n",
        "\n",
        "i = 0\n",
        "while i < 7:\n",
        "  comidas = input(\"Ingresa una de tus comidas: \")\n",
        "  lista.append(comidas)\n",
        "  i += 1\n",
        "\n",
        "print(\"\\nTus comidas favoritas son:\")\n",
        "j = 0\n",
        "x=0\n",
        "while j < 7:\n",
        "  print(lista[x])\n",
        "  j += 1\n",
        "  x += 1  "
      ],
      "execution_count": null,
      "outputs": [
        {
          "output_type": "stream",
          "name": "stdout",
          "text": [
            "Piensa en 7 de tus comidas preferidas.\n",
            "\n",
            "Ingresa una de tus comidas: Pizza\n",
            "Ingresa una de tus comidas: Spaguetti\n",
            "Ingresa una de tus comidas: Ensalada\n",
            "Ingresa una de tus comidas: Crema de Broccoli\n",
            "Ingresa una de tus comidas: Pozole\n",
            "Ingresa una de tus comidas: Enchiladas\n",
            "Ingresa una de tus comidas: Sopes\n",
            "\n",
            "Tus comidas favoritas son:\n",
            "Pizza\n",
            "Spaguetti\n",
            "Ensalada\n",
            "Crema de Broccoli\n",
            "Pozole\n",
            "Enchiladas\n",
            "Sopes\n"
          ]
        }
      ]
    },
    {
      "cell_type": "code",
      "metadata": {
        "colab": {
          "base_uri": "https://localhost:8080/"
        },
        "id": "XxInQX_YuIj3",
        "outputId": "a68e854f-ba5d-4ef7-9cff-5aa037c8cfdf"
      },
      "source": [
        "# Modifica el ejercicio 1.1 para que imprima cada una de las comidas favoritas junto con una oracición inicial: \"Una de mis comidas favoritas es [comida1]\".\n",
        "lista = []\n",
        "\n",
        "print(\"Piensa en 7 de tus comidas preferidas.\\n\")\n",
        "\n",
        "i = 0\n",
        "while i < 7:\n",
        "  comidas = input(\"Ingresa una de tus comidas: \")\n",
        "  lista.append(comidas)\n",
        "  i += 1\n",
        "\n",
        "j = 0\n",
        "x=0\n",
        "while j < 7:\n",
        "  print(\"\\nUna de mis comidas favoritas es:\", lista[x])\n",
        "  j += 1\n",
        "  x += 1  "
      ],
      "execution_count": null,
      "outputs": [
        {
          "output_type": "stream",
          "name": "stdout",
          "text": [
            "Piensa en 7 de tus comidas preferidas.\n",
            "\n",
            "Ingresa una de tus comidas: Pizza\n",
            "Ingresa una de tus comidas: Spaguetti\n",
            "Ingresa una de tus comidas: Ensalada\n",
            "Ingresa una de tus comidas: Crema de Broccoli\n",
            "Ingresa una de tus comidas: Pozole\n",
            "Ingresa una de tus comidas: Enchiladas\n",
            "Ingresa una de tus comidas: Sopes\n",
            "\n",
            "Una de mis comidas favoritas es: Pizza\n",
            "\n",
            "Una de mis comidas favoritas es: Spaguetti\n",
            "\n",
            "Una de mis comidas favoritas es: Ensalada\n",
            "\n",
            "Una de mis comidas favoritas es: Crema de Broccoli\n",
            "\n",
            "Una de mis comidas favoritas es: Pozole\n",
            "\n",
            "Una de mis comidas favoritas es: Enchiladas\n",
            "\n",
            "Una de mis comidas favoritas es: Sopes\n"
          ]
        }
      ]
    },
    {
      "cell_type": "code",
      "metadata": {
        "colab": {
          "base_uri": "https://localhost:8080/"
        },
        "id": "ctKbujV2u_f8",
        "outputId": "cd1e409e-0423-4f3a-ff94-e1d0dcba23d2"
      },
      "source": [
        "#Ejercicio 2\n",
        "#Crear un juego de piedra, papel o tijera de dos jugadores. El programa preguntará por la opción del jugador 1 y la opción del jugador 2 y dará como resultado quien ganó el juego. \n",
        "\n",
        "print(\"Comenzará el juego de piedra, papel o tijera...\")\n",
        "print(\"Instrucciones:\\nComenzará eligiendo el jugador 1 y a continuación, el jugador 2.\\nYa definida la elección no hay marcha atrás, se anunciará el ganador.\\n*Recuerda usar minúsculas para dar a conocer su opción.\")\n",
        "print(\"¡¡Empecemos!!\")\n",
        "\n",
        "a = input(\"Jugador 1 escoge:\")\n",
        "b = input(\"Jugador 2 escoge:\")\n",
        "\n",
        "if a == b:\n",
        "  print(\"Ambos jugadores quedan empatados.\")\n",
        "if a == \"piedra\" and b == \"papel\":\n",
        "  print(\"Jugador 2 gana.\")\n",
        "if a == \"piedra\" and b == \"tijera\":\n",
        "  print(\"Jugador 1 gana.\")\n",
        "if a == \"papel\" and b == \"piedra\":\n",
        "  print(\"Jugador 1 gana.\")\n",
        "if a == \"papel\" and b == \"tijera\":\n",
        "  print(\"Jugador 2 gana.\")\n",
        "if a == \"tijera\" and b == \"piedra\":\n",
        "  print(\"Jugador 2 gana.\")\n",
        "if a == \"tijera\" and b == \"papel\":\n",
        "  print(\"Jugador 1 gana.\")\n"
      ],
      "execution_count": null,
      "outputs": [
        {
          "output_type": "stream",
          "name": "stdout",
          "text": [
            "Comenzará el juego de piedra, papel o tijera...\n",
            "Instrucciones:\n",
            "Comenzará eligiendo el jugador 1 y a continuación, el jugador 2.\n",
            "Ya definida la elección no hay marcha atrás, se anunciará el ganador.\n",
            "*Recuerda usar minúsculas para dar a conocer su opción.\n",
            "¡¡Empecemos!!\n",
            "Jugador 1 escoge:piedra\n",
            "Jugador 2 escoge:tijera\n",
            "Jugador 1 gana.\n"
          ]
        }
      ]
    },
    {
      "cell_type": "code",
      "metadata": {
        "colab": {
          "base_uri": "https://localhost:8080/"
        },
        "id": "bkwABAj51vWK",
        "outputId": "ea6b6894-156e-4061-af55-5575bb3d429d"
      },
      "source": [
        "#Ejercicio 3\n",
        "#Implementar un programa que imprima el siguiente patron:\n",
        "#123456\n",
        "#12345\n",
        "#1234\n",
        "#123\n",
        "#12\n",
        "#1\n",
        "#12\n",
        "#123\n",
        "#1234\n",
        "#12345\n",
        "#123456\n",
        "\n",
        "     \n",
        "num = 1\n",
        " \n",
        "    \n",
        "for i in range(0, 6):\n",
        "     \n",
        "        \n",
        "    num = 1\n",
        "     \n",
        "        \n",
        "            \n",
        "    for j in range(0, i+1):\n",
        "         \n",
        "                \n",
        "        print(num, end=\" \")\n",
        "         \n",
        "            \n",
        "        num = num + 1\n",
        "     \n",
        "        \n",
        "    print(\"\\r\")    \n",
        "\n",
        " #Se buscó algo similar para poder llevarlo a cabo y aún así no pude realizarlo, seguiré revisándolo para poder lograr llevarlo a cabo.\n",
        " #Link de referencia https://es.acervolima.com/2021/02/09/programas-para-imprimir-patrones-piramidales-en-python/#:~:text=Los%20patrones%20se%20pueden%20imprimir%20en%20Python%20usando,patrones%20num%C3%A9ricos%2C%20patrones%20alfab%C3%A9ticos%20o%20patrones%20de%20estrellas.\n",
        "\n",
        " "
      ],
      "execution_count": null,
      "outputs": [
        {
          "output_type": "stream",
          "name": "stdout",
          "text": [
            "1 \r\n",
            "1 2 \r\n",
            "1 2 3 \r\n",
            "1 2 3 4 \r\n",
            "1 2 3 4 5 \r\n",
            "1 2 3 4 5 6 \r\n"
          ]
        }
      ]
    }
  ]
}