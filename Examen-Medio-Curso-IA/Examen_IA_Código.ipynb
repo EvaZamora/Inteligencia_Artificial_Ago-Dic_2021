{
  "nbformat": 4,
  "nbformat_minor": 0,
  "metadata": {
    "colab": {
      "name": "Examen_IA_Código.ipynb",
      "provenance": [],
      "collapsed_sections": []
    },
    "kernelspec": {
      "name": "python3",
      "display_name": "Python 3"
    },
    "language_info": {
      "name": "python"
    }
  },
  "cells": [
    {
      "cell_type": "markdown",
      "metadata": {
        "id": "-1N7zPHTIynP"
      },
      "source": [
        "Examen Medio Curso - Inteligencia Artificial\n",
        "\n",
        "\n",
        "Eva Paola Zamora Gutiérrez\n",
        "1851761"
      ]
    },
    {
      "cell_type": "code",
      "metadata": {
        "colab": {
          "base_uri": "https://localhost:8080/"
        },
        "id": "s-lXKRouI5fY",
        "outputId": "813eb06d-af9c-42f6-be07-1674a4204351"
      },
      "source": [
        "#Programa que remueva números pares e imprima la lista\n",
        "\n",
        "ex_lista = [10,15,17,21,22,34,37,40,45,52,66,68,81,84,91,94,102,105,109]\n",
        "\n",
        "for x in ex_lista:\n",
        "  if x%2 == 0:\n",
        "    ex_lista.remove(x)\n",
        "\n",
        "print(ex_lista)"
      ],
      "execution_count": null,
      "outputs": [
        {
          "output_type": "stream",
          "name": "stdout",
          "text": [
            "[15, 17, 21, 34, 37, 45, 66, 81, 91, 102, 105, 109]\n"
          ]
        }
      ]
    },
    {
      "cell_type": "code",
      "metadata": {
        "colab": {
          "base_uri": "https://localhost:8080/"
        },
        "id": "7YcQLm7OT-Sf",
        "outputId": "2b2f200c-904a-4e20-faa7-007bce045b27"
      },
      "source": [
        "#Programa que pregunte por 5 películas favoritas, de más a menos. \n",
        "#Se almacenan en una lista y se imprimen 5 oraciones con el título y posición en la lista.\n",
        "\n",
        "lista = []\n",
        "\n",
        "print(\"Piensa en 5 películas y escribelas de la más a la menos favorita:\")\n",
        "\n",
        "i = 0\n",
        "while i < 5:\n",
        "  películas = input()\n",
        "  lista.append(películas)\n",
        "  i+=1\n",
        "\n",
        "j = 0\n",
        "y = 0\n",
        "while j < 5:\n",
        "  print(\"\\nLa película \",lista[y], \", está en la posición \",y+1, \" de mi top 5.\")\n",
        "  j+=1\n",
        "  y+=1"
      ],
      "execution_count": null,
      "outputs": [
        {
          "output_type": "stream",
          "name": "stdout",
          "text": [
            "Piensa en 5 películas y escribelas de la más a la menos favorita:\n",
            "Juegos del Hambre\n",
            "En llamas\n",
            "Sinsajo 1\n",
            "Sinsajo 2\n",
            "Percy Jackson\n",
            "\n",
            "La película  Juegos del Hambre , está en la posición  1  de mi top 5.\n",
            "\n",
            "La película  En llamas , está en la posición  2  de mi top 5.\n",
            "\n",
            "La película  Sinsajo 1 , está en la posición  3  de mi top 5.\n",
            "\n",
            "La película  Sinsajo 2 , está en la posición  4  de mi top 5.\n",
            "\n",
            "La película  Percy Jackson , está en la posición  5  de mi top 5.\n"
          ]
        }
      ]
    }
  ]
}